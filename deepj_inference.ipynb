{
  "cells": [
    {
      "cell_type": "code",
      "source": [
        "!git clone https://github.com/FelitaD/deepj_inference.git /content/deepj"
      ],
      "metadata": {
        "id": "W6nMHrhOtGYR"
      },
      "id": "W6nMHrhOtGYR",
      "execution_count": null,
      "outputs": []
    },
    {
      "cell_type": "code",
      "execution_count": 3,
      "id": "76ae2fe5-8479-4833-bba8-ce5aa3797a4d",
      "metadata": {
        "id": "76ae2fe5-8479-4833-bba8-ce5aa3797a4d"
      },
      "outputs": [],
      "source": [
        "import os\n",
        "os.chdir('/content/deepj')"
      ]
    },
    {
      "cell_type": "code",
      "source": [],
      "metadata": {
        "id": "bJOcMRQgtQBM"
      },
      "id": "bJOcMRQgtQBM",
      "execution_count": null,
      "outputs": []
    }
  ],
  "metadata": {
    "kernelspec": {
      "display_name": "Python 3 (ipykernel)",
      "language": "python",
      "name": "python3"
    },
    "language_info": {
      "codemirror_mode": {
        "name": "ipython",
        "version": 3
      },
      "file_extension": ".py",
      "mimetype": "text/x-python",
      "name": "python",
      "nbconvert_exporter": "python",
      "pygments_lexer": "ipython3",
      "version": "3.13.2"
    },
    "colab": {
      "provenance": []
    }
  },
  "nbformat": 4,
  "nbformat_minor": 5
}